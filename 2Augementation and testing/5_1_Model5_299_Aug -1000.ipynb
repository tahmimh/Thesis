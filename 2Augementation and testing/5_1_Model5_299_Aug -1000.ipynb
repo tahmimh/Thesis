{
 "cells": [
  {
   "cell_type": "code",
   "execution_count": 16,
   "id": "096ba053",
   "metadata": {},
   "outputs": [],
   "source": [
    "import matplotlib.pyplot as plt\n",
    "import matplotlib.image as mpimg\n",
    "\n",
    "plt.style.use('classic')"
   ]
  },
  {
   "cell_type": "code",
   "execution_count": 17,
   "id": "8a676e68",
   "metadata": {},
   "outputs": [],
   "source": [
    "from keras.preprocessing.image import ImageDataGenerator\n",
    "from keras.models import Sequential\n",
    "from keras.layers import Conv2D, MaxPooling2D, BatchNormalization\n",
    "from keras.layers import Activation, Dropout, Flatten, Dense"
   ]
  },
  {
   "cell_type": "code",
   "execution_count": 18,
   "id": "b795a297",
   "metadata": {},
   "outputs": [],
   "source": [
    "import os\n",
    "import cv2\n",
    "from PIL import Image\n",
    "import numpy as np"
   ]
  },
  {
   "cell_type": "code",
   "execution_count": 19,
   "id": "216887b2",
   "metadata": {},
   "outputs": [],
   "source": [
    "image_directory = '299aug-nor-macular1000/'\n",
    "SIZE = 150\n",
    "dataset = []  #Many ways to handle data, you can use pandas. Here, we are using a list format.  \n",
    "label = []  #Place holders to define add labels. We will add 0 to all parasitized images and 1 to uninfected."
   ]
  },
  {
   "cell_type": "code",
   "execution_count": 20,
   "id": "f1a61af6",
   "metadata": {},
   "outputs": [],
   "source": [
    "macular_degeneration_images = os.listdir(image_directory + 'macular-degeneration/')\n",
    "for i, image_name in enumerate(macular_degeneration_images):    #Remember enumerate method adds a counter and returns the enumerate object\n",
    "    \n",
    "    if (image_name.split('.')[1] == 'jpg'):\n",
    "        image = cv2.imread(image_directory + 'macular-degeneration/' + image_name)\n",
    "        image = Image.fromarray(image, 'RGB')\n",
    "        image = image.resize((SIZE, SIZE))\n",
    "        dataset.append(np.array(image))\n",
    "        label.append(0)\n",
    "\n",
    "#Iterate through all images in Uninfected folder, resize to 64 x 64\n",
    "#Then save into the same numpy array 'dataset' but with label 1"
   ]
  },
  {
   "cell_type": "code",
   "execution_count": 21,
   "id": "38ba988e",
   "metadata": {},
   "outputs": [],
   "source": [
    "normal_images = os.listdir(image_directory + 'normal/')\n",
    "for i, image_name in enumerate(normal_images):\n",
    "    if (image_name.split('.')[1] == 'jpg'):\n",
    "        image = cv2.imread(image_directory + 'normal/' + image_name)\n",
    "        image = Image.fromarray(image, 'RGB')\n",
    "        image = image.resize((SIZE, SIZE))\n",
    "        dataset.append(np.array(image))\n",
    "        label.append(1)\n",
    "\n",
    "dataset = np.array(dataset)\n",
    "label = np.array(label)"
   ]
  },
  {
   "cell_type": "code",
   "execution_count": 22,
   "id": "ddf86c22",
   "metadata": {},
   "outputs": [],
   "source": [
    "from sklearn.model_selection import train_test_split\n",
    "#from keras.utils import to_categorical"
   ]
  },
  {
   "cell_type": "code",
   "execution_count": 23,
   "id": "6e6c7e22",
   "metadata": {},
   "outputs": [],
   "source": [
    "X_train, X_test, y_train, y_test = train_test_split(dataset, label, test_size = 0.10, random_state = 0)"
   ]
  },
  {
   "cell_type": "code",
   "execution_count": 24,
   "id": "29107bbe",
   "metadata": {},
   "outputs": [],
   "source": [
    "#Without scaling (normalize) the training may not converge. \n",
    "#Normalization is a rescaling of the data from the original range \n",
    "#so that all values are within the range of 0 and 1.\n",
    "from tensorflow.keras.utils import normalize\n",
    "X_train = normalize(X_train, axis=1)\n",
    "X_test = normalize(X_test, axis=1)\n",
    "\n",
    "#Do not do one-hot encoding as it generates a shape of (num, 2)\n",
    "#But the network expects an input of (num, 1) for the last layer for binary classification\n",
    "#y_train = to_categorical(y_train)\n",
    "#y_test = to_categorical(y_test)"
   ]
  },
  {
   "cell_type": "code",
   "execution_count": 25,
   "id": "478a8ce7",
   "metadata": {},
   "outputs": [],
   "source": [
    "###2 conv and pool layers. with some normalization and drops in between.\n",
    "\n",
    "INPUT_SHAPE = (SIZE, SIZE, 3)   #change to (SIZE, SIZE, 3)\n",
    "\n",
    "\n",
    "model = Sequential()\n",
    "model.add(Conv2D(32, (3, 3), input_shape=INPUT_SHAPE))\n",
    "model.add(Activation('relu'))\n",
    "model.add(MaxPooling2D(pool_size=(2, 2)))\n",
    "model.add(Dropout(0.3))\n",
    "\n",
    "model.add(Conv2D(32, (3, 3), kernel_initializer = 'he_uniform'))\n",
    "model.add(Activation('relu'))\n",
    "model.add(MaxPooling2D(pool_size=(2, 2)))\n",
    "model.add(Dropout(0.3))\n",
    "\n",
    "\n",
    "model.add(Conv2D(64, (3, 3), kernel_initializer = 'he_uniform'))\n",
    "model.add(Activation('relu'))\n",
    "model.add(MaxPooling2D(pool_size=(2, 2)))\n",
    "model.add(Dropout(0.3))\n",
    "\n",
    "\n",
    "model.add(Conv2D(64, (3, 3), kernel_initializer = 'he_uniform'))\n",
    "model.add(Activation('relu'))\n",
    "model.add(MaxPooling2D(pool_size=(2, 2)))\n",
    "model.add(Dropout(0.3))\n",
    "\n",
    "\n",
    "model.add(Flatten())\n",
    "model.add(Dense(128))\n",
    "model.add(Activation('relu'))\n",
    "model.add(Dropout(0.3))\n",
    "\n",
    "model.add(Dense(1))\n",
    "model.add(Activation('sigmoid'))  \n",
    "#Do not use softmax for binary classification\n",
    "#Softmax is useful for mutually exclusive classes, either cat or dog but not both.\n",
    "#Also, softmax outputs all add to 1. So good for multi class problems where each\n",
    "#class is given a probability and all add to 1. Highest one wins. "
   ]
  },
  {
   "cell_type": "code",
   "execution_count": 26,
   "id": "60bdeb0e",
   "metadata": {},
   "outputs": [],
   "source": [
    "#Sigmoid outputs probability. Can be used for non-mutually exclusive problems.\n",
    "#But, also good for binary mutually exclusive (cat or not cat). \n",
    "\n",
    "model.compile(loss='binary_crossentropy',\n",
    "              optimizer='adam',             #also try adam\n",
    "              metrics=['accuracy'])\n"
   ]
  },
  {
   "cell_type": "code",
   "execution_count": 27,
   "id": "24c3c9f8",
   "metadata": {},
   "outputs": [
    {
     "name": "stdout",
     "output_type": "stream",
     "text": [
      "Model: \"sequential_1\"\n",
      "_________________________________________________________________\n",
      "Layer (type)                 Output Shape              Param #   \n",
      "=================================================================\n",
      "conv2d_4 (Conv2D)            (None, 148, 148, 32)      896       \n",
      "_________________________________________________________________\n",
      "activation_6 (Activation)    (None, 148, 148, 32)      0         \n",
      "_________________________________________________________________\n",
      "max_pooling2d_4 (MaxPooling2 (None, 74, 74, 32)        0         \n",
      "_________________________________________________________________\n",
      "dropout_5 (Dropout)          (None, 74, 74, 32)        0         \n",
      "_________________________________________________________________\n",
      "conv2d_5 (Conv2D)            (None, 72, 72, 32)        9248      \n",
      "_________________________________________________________________\n",
      "activation_7 (Activation)    (None, 72, 72, 32)        0         \n",
      "_________________________________________________________________\n",
      "max_pooling2d_5 (MaxPooling2 (None, 36, 36, 32)        0         \n",
      "_________________________________________________________________\n",
      "dropout_6 (Dropout)          (None, 36, 36, 32)        0         \n",
      "_________________________________________________________________\n",
      "conv2d_6 (Conv2D)            (None, 34, 34, 64)        18496     \n",
      "_________________________________________________________________\n",
      "activation_8 (Activation)    (None, 34, 34, 64)        0         \n",
      "_________________________________________________________________\n",
      "max_pooling2d_6 (MaxPooling2 (None, 17, 17, 64)        0         \n",
      "_________________________________________________________________\n",
      "dropout_7 (Dropout)          (None, 17, 17, 64)        0         \n",
      "_________________________________________________________________\n",
      "conv2d_7 (Conv2D)            (None, 15, 15, 64)        36928     \n",
      "_________________________________________________________________\n",
      "activation_9 (Activation)    (None, 15, 15, 64)        0         \n",
      "_________________________________________________________________\n",
      "max_pooling2d_7 (MaxPooling2 (None, 7, 7, 64)          0         \n",
      "_________________________________________________________________\n",
      "dropout_8 (Dropout)          (None, 7, 7, 64)          0         \n",
      "_________________________________________________________________\n",
      "flatten_1 (Flatten)          (None, 3136)              0         \n",
      "_________________________________________________________________\n",
      "dense_2 (Dense)              (None, 128)               401536    \n",
      "_________________________________________________________________\n",
      "activation_10 (Activation)   (None, 128)               0         \n",
      "_________________________________________________________________\n",
      "dropout_9 (Dropout)          (None, 128)               0         \n",
      "_________________________________________________________________\n",
      "dense_3 (Dense)              (None, 1)                 129       \n",
      "_________________________________________________________________\n",
      "activation_11 (Activation)   (None, 1)                 0         \n",
      "=================================================================\n",
      "Total params: 467,233\n",
      "Trainable params: 467,233\n",
      "Non-trainable params: 0\n",
      "_________________________________________________________________\n",
      "None\n"
     ]
    }
   ],
   "source": [
    "print(model.summary())"
   ]
  },
  {
   "cell_type": "code",
   "execution_count": 28,
   "id": "d40f4490",
   "metadata": {
    "scrolled": true
   },
   "outputs": [
    {
     "name": "stdout",
     "output_type": "stream",
     "text": [
      "Epoch 1/25\n",
      "113/113 [==============================] - 20s 169ms/step - loss: 0.6415 - accuracy: 0.6211 - val_loss: 0.4932 - val_accuracy: 0.7850\n",
      "Epoch 2/25\n",
      "113/113 [==============================] - 19s 167ms/step - loss: 0.4616 - accuracy: 0.7878 - val_loss: 0.4289 - val_accuracy: 0.8050\n",
      "Epoch 3/25\n",
      "113/113 [==============================] - 19s 167ms/step - loss: 0.4550 - accuracy: 0.7778 - val_loss: 0.4158 - val_accuracy: 0.7950\n",
      "Epoch 4/25\n",
      "113/113 [==============================] - 19s 172ms/step - loss: 0.4332 - accuracy: 0.7944 - val_loss: 0.4254 - val_accuracy: 0.7950\n",
      "Epoch 5/25\n",
      "113/113 [==============================] - 21s 182ms/step - loss: 0.4361 - accuracy: 0.7883 - val_loss: 0.4578 - val_accuracy: 0.7900\n",
      "Epoch 6/25\n",
      "113/113 [==============================] - 21s 182ms/step - loss: 0.4533 - accuracy: 0.7783 - val_loss: 0.4192 - val_accuracy: 0.8050\n",
      "Epoch 7/25\n",
      "113/113 [==============================] - 21s 182ms/step - loss: 0.4205 - accuracy: 0.8033 - val_loss: 0.3864 - val_accuracy: 0.8200\n",
      "Epoch 8/25\n",
      "113/113 [==============================] - 21s 182ms/step - loss: 0.3904 - accuracy: 0.8261 - val_loss: 0.3859 - val_accuracy: 0.8250\n",
      "Epoch 9/25\n",
      "113/113 [==============================] - 21s 184ms/step - loss: 0.3929 - accuracy: 0.8278 - val_loss: 0.3894 - val_accuracy: 0.8200\n",
      "Epoch 10/25\n",
      "113/113 [==============================] - 24s 214ms/step - loss: 0.3739 - accuracy: 0.8378 - val_loss: 0.3910 - val_accuracy: 0.8150\n",
      "Epoch 11/25\n",
      "113/113 [==============================] - 22s 192ms/step - loss: 0.3824 - accuracy: 0.8278 - val_loss: 0.3990 - val_accuracy: 0.8100\n",
      "Epoch 12/25\n",
      "113/113 [==============================] - 21s 187ms/step - loss: 0.3767 - accuracy: 0.8289 - val_loss: 0.3882 - val_accuracy: 0.8200\n",
      "Epoch 13/25\n",
      "113/113 [==============================] - 21s 183ms/step - loss: 0.3533 - accuracy: 0.8522 - val_loss: 0.3607 - val_accuracy: 0.8450\n",
      "Epoch 14/25\n",
      "113/113 [==============================] - 21s 188ms/step - loss: 0.3482 - accuracy: 0.8539 - val_loss: 0.3616 - val_accuracy: 0.8400\n",
      "Epoch 15/25\n",
      "113/113 [==============================] - 20s 176ms/step - loss: 0.3469 - accuracy: 0.8444 - val_loss: 0.3414 - val_accuracy: 0.8650\n",
      "Epoch 16/25\n",
      "113/113 [==============================] - 20s 181ms/step - loss: 0.3407 - accuracy: 0.8533 - val_loss: 0.3467 - val_accuracy: 0.8600\n",
      "Epoch 17/25\n",
      "113/113 [==============================] - 20s 181ms/step - loss: 0.3470 - accuracy: 0.8428 - val_loss: 0.3411 - val_accuracy: 0.8650\n",
      "Epoch 18/25\n",
      "113/113 [==============================] - 21s 186ms/step - loss: 0.3376 - accuracy: 0.8556 - val_loss: 0.3595 - val_accuracy: 0.8700\n",
      "Epoch 19/25\n",
      "113/113 [==============================] - 21s 182ms/step - loss: 0.3117 - accuracy: 0.8650 - val_loss: 0.3570 - val_accuracy: 0.8800\n",
      "Epoch 20/25\n",
      "113/113 [==============================] - 20s 181ms/step - loss: 0.3080 - accuracy: 0.8756 - val_loss: 0.3426 - val_accuracy: 0.8850\n",
      "Epoch 21/25\n",
      "113/113 [==============================] - 20s 181ms/step - loss: 0.3146 - accuracy: 0.8683 - val_loss: 0.3891 - val_accuracy: 0.8400\n",
      "Epoch 22/25\n",
      "113/113 [==============================] - 21s 182ms/step - loss: 0.3025 - accuracy: 0.8678 - val_loss: 0.3870 - val_accuracy: 0.8450\n",
      "Epoch 23/25\n",
      "113/113 [==============================] - 22s 198ms/step - loss: 0.2724 - accuracy: 0.8822 - val_loss: 0.3696 - val_accuracy: 0.8450\n",
      "Epoch 24/25\n",
      "113/113 [==============================] - 22s 192ms/step - loss: 0.2862 - accuracy: 0.8722 - val_loss: 0.3485 - val_accuracy: 0.8950\n",
      "Epoch 25/25\n",
      "113/113 [==============================] - 23s 200ms/step - loss: 0.2585 - accuracy: 0.8933 - val_loss: 0.3042 - val_accuracy: 0.8650\n"
     ]
    }
   ],
   "source": [
    "history = model.fit(X_train, \n",
    "                         y_train, \n",
    "                         batch_size = 16, \n",
    "                         verbose = 1, \n",
    "                         epochs = 25,      \n",
    "                         validation_data=(X_test,y_test),\n",
    "                         shuffle = False\n",
    "                     )"
   ]
  },
  {
   "cell_type": "code",
   "execution_count": 32,
   "id": "48e0def2",
   "metadata": {
    "scrolled": true
   },
   "outputs": [
    {
     "name": "stdout",
     "output_type": "stream",
     "text": [
      "Epoch 1/10\n",
      "163/163 [==============================] - 27s 166ms/step - loss: 0.2257 - accuracy: 0.9077 - val_loss: 0.3522 - val_accuracy: 0.8850\n",
      "Epoch 2/10\n",
      "163/163 [==============================] - 27s 164ms/step - loss: 0.1445 - accuracy: 0.9450 - val_loss: 0.4124 - val_accuracy: 0.8550\n",
      "Epoch 3/10\n",
      "163/163 [==============================] - 27s 166ms/step - loss: 0.1261 - accuracy: 0.9498 - val_loss: 0.2987 - val_accuracy: 0.8800\n",
      "Epoch 4/10\n",
      "163/163 [==============================] - 27s 169ms/step - loss: 0.1651 - accuracy: 0.9392 - val_loss: 0.3574 - val_accuracy: 0.8550\n",
      "Epoch 5/10\n",
      "163/163 [==============================] - 29s 179ms/step - loss: 0.1109 - accuracy: 0.9514 - val_loss: 0.4811 - val_accuracy: 0.8800\n",
      "Epoch 6/10\n",
      "163/163 [==============================] - 29s 181ms/step - loss: 0.0723 - accuracy: 0.9738 - val_loss: 0.4363 - val_accuracy: 0.8850\n",
      "Epoch 7/10\n",
      "152/163 [==========================>...] - ETA: 2s - loss: 0.0937 - accuracy: 0.9681WARNING:tensorflow:Your input ran out of data; interrupting training. Make sure that your dataset or generator can generate at least `steps_per_epoch * epochs` batches (in this case, 1630 batches). You may need to use the repeat() function when building your dataset.\n",
      "163/163 [==============================] - 28s 173ms/step - loss: 0.0937 - accuracy: 0.9681 - val_loss: 0.4498 - val_accuracy: 0.8850\n"
     ]
    }
   ],
   "source": [
    "history = model.fit(X_train, \n",
    "                         y_train, \n",
    "                         batch_size = 16, \n",
    "                         verbose = 1, \n",
    "                         steps_per_epoch = 163,\n",
    "                         epochs = 10,      \n",
    "                         validation_data=(X_test,y_test),\n",
    "                         validation_steps = 624,\n",
    "                         shuffle = False\n",
    "                     )\n"
   ]
  },
  {
   "cell_type": "code",
   "execution_count": 35,
   "id": "9a3bf968",
   "metadata": {},
   "outputs": [
    {
     "name": "stdout",
     "output_type": "stream",
     "text": [
      "100/100 [==============================] - 17s 167ms/step - loss: 0.0836 - accuracy: 0.9694 - val_loss: 0.4442 - val_accuracy: 0.8150\n"
     ]
    }
   ],
   "source": [
    "history = model.fit(X_train, \n",
    "                         y_train, \n",
    "                         batch_size = 16, \n",
    "                         verbose = 1, \n",
    "                         steps_per_epoch = 100,\n",
    "                         epochs = 1,      \n",
    "                         validation_data=(X_test,y_test),\n",
    "                         shuffle = True\n",
    "                     )\n"
   ]
  },
  {
   "cell_type": "code",
   "execution_count": null,
   "id": "cc5c17c4",
   "metadata": {},
   "outputs": [],
   "source": []
  }
 ],
 "metadata": {
  "kernelspec": {
   "display_name": "Python 3",
   "language": "python",
   "name": "python3"
  },
  "language_info": {
   "codemirror_mode": {
    "name": "ipython",
    "version": 3
   },
   "file_extension": ".py",
   "mimetype": "text/x-python",
   "name": "python",
   "nbconvert_exporter": "python",
   "pygments_lexer": "ipython3",
   "version": "3.6.13"
  }
 },
 "nbformat": 4,
 "nbformat_minor": 5
}
