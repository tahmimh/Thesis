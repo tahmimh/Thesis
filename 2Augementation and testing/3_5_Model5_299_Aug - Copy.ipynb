{
 "cells": [
  {
   "cell_type": "code",
   "execution_count": 1,
   "id": "096ba053",
   "metadata": {},
   "outputs": [],
   "source": [
    "import matplotlib.pyplot as plt\n",
    "import matplotlib.image as mpimg\n",
    "\n",
    "plt.style.use('classic')"
   ]
  },
  {
   "cell_type": "code",
   "execution_count": 2,
   "id": "8a676e68",
   "metadata": {},
   "outputs": [],
   "source": [
    "from keras.preprocessing.image import ImageDataGenerator\n",
    "from keras.models import Sequential\n",
    "from keras.layers import Conv2D, MaxPooling2D, BatchNormalization\n",
    "from keras.layers import Activation, Dropout, Flatten, Dense"
   ]
  },
  {
   "cell_type": "code",
   "execution_count": 3,
   "id": "b795a297",
   "metadata": {},
   "outputs": [],
   "source": [
    "import os\n",
    "import cv2\n",
    "from PIL import Image\n",
    "import numpy as np"
   ]
  },
  {
   "cell_type": "code",
   "execution_count": 4,
   "id": "216887b2",
   "metadata": {},
   "outputs": [],
   "source": [
    "image_directory = '299aug-nor-macular/'\n",
    "SIZE = 128\n",
    "dataset = []  #Many ways to handle data, you can use pandas. Here, we are using a list format.  \n",
    "label = []  #Place holders to define add labels. We will add 0 to all parasitized images and 1 to uninfected."
   ]
  },
  {
   "cell_type": "code",
   "execution_count": 5,
   "id": "f1a61af6",
   "metadata": {},
   "outputs": [],
   "source": [
    "macular_degeneration_images = os.listdir(image_directory + 'macular-degeneration/')\n",
    "for i, image_name in enumerate(macular_degeneration_images):    #Remember enumerate method adds a counter and returns the enumerate object\n",
    "    \n",
    "    if (image_name.split('.')[1] == 'jpg'):\n",
    "        image = cv2.imread(image_directory + 'macular-degeneration/' + image_name)\n",
    "        image = Image.fromarray(image, 'RGB')\n",
    "        image = image.resize((SIZE, SIZE))\n",
    "        dataset.append(np.array(image))\n",
    "        label.append(0)\n",
    "\n",
    "#Iterate through all images in Uninfected folder, resize to 64 x 64\n",
    "#Then save into the same numpy array 'dataset' but with label 1"
   ]
  },
  {
   "cell_type": "code",
   "execution_count": 6,
   "id": "38ba988e",
   "metadata": {},
   "outputs": [],
   "source": [
    "normal_images = os.listdir(image_directory + 'normal/')\n",
    "for i, image_name in enumerate(normal_images):\n",
    "    if (image_name.split('.')[1] == 'jpg'):\n",
    "        image = cv2.imread(image_directory + 'normal/' + image_name)\n",
    "        image = Image.fromarray(image, 'RGB')\n",
    "        image = image.resize((SIZE, SIZE))\n",
    "        dataset.append(np.array(image))\n",
    "        label.append(1)\n",
    "\n",
    "dataset = np.array(dataset)\n",
    "label = np.array(label)"
   ]
  },
  {
   "cell_type": "code",
   "execution_count": 7,
   "id": "ddf86c22",
   "metadata": {},
   "outputs": [],
   "source": [
    "from sklearn.model_selection import train_test_split\n",
    "#from keras.utils import to_categorical"
   ]
  },
  {
   "cell_type": "code",
   "execution_count": 8,
   "id": "6e6c7e22",
   "metadata": {},
   "outputs": [],
   "source": [
    "X_train, X_test, y_train, y_test = train_test_split(dataset, label, test_size = 0.20, random_state = 0)"
   ]
  },
  {
   "cell_type": "code",
   "execution_count": 9,
   "id": "29107bbe",
   "metadata": {},
   "outputs": [],
   "source": [
    "#Without scaling (normalize) the training may not converge. \n",
    "#Normalization is a rescaling of the data from the original range \n",
    "#so that all values are within the range of 0 and 1.\n",
    "from tensorflow.keras.utils import normalize\n",
    "X_train = normalize(X_train, axis=1)\n",
    "X_test = normalize(X_test, axis=1)\n",
    "\n",
    "#Do not do one-hot encoding as it generates a shape of (num, 2)\n",
    "#But the network expects an input of (num, 1) for the last layer for binary classification\n",
    "#y_train = to_categorical(y_train)\n",
    "#y_test = to_categorical(y_test)"
   ]
  },
  {
   "cell_type": "code",
   "execution_count": 10,
   "id": "478a8ce7",
   "metadata": {},
   "outputs": [],
   "source": [
    "###2 conv and pool layers. with some normalization and drops in between.\n",
    "\n",
    "INPUT_SHAPE = (SIZE, SIZE, 3)   #change to (SIZE, SIZE, 3)\n",
    "\n",
    "\n",
    "model = Sequential()\n",
    "model.add(Conv2D(32, (3, 3), input_shape=INPUT_SHAPE))\n",
    "model.add(Activation('relu'))\n",
    "model.add(MaxPooling2D(pool_size=(2, 2)))\n",
    "model.add(Dropout(0.3))\n",
    "\n",
    "model.add(Conv2D(32, (3, 3), kernel_initializer = 'he_uniform'))\n",
    "model.add(Activation('relu'))\n",
    "model.add(MaxPooling2D(pool_size=(2, 2)))\n",
    "model.add(Dropout(0.3))\n",
    "\n",
    "\n",
    "model.add(Conv2D(64, (3, 3), kernel_initializer = 'he_uniform'))\n",
    "model.add(Activation('relu'))\n",
    "model.add(MaxPooling2D(pool_size=(2, 2)))\n",
    "model.add(Dropout(0.3))\n",
    "\n",
    "\n",
    "model.add(Conv2D(64, (3, 3), kernel_initializer = 'he_uniform'))\n",
    "model.add(Activation('relu'))\n",
    "model.add(MaxPooling2D(pool_size=(2, 2)))\n",
    "model.add(Dropout(0.3))\n",
    "\n",
    "\n",
    "model.add(Flatten())\n",
    "model.add(Dense(128))\n",
    "model.add(Activation('relu'))\n",
    "model.add(Dropout(0.3))\n",
    "\n",
    "model.add(Dense(1))\n",
    "model.add(Activation('sigmoid'))  \n",
    "#Do not use softmax for binary classification\n",
    "#Softmax is useful for mutually exclusive classes, either cat or dog but not both.\n",
    "#Also, softmax outputs all add to 1. So good for multi class problems where each\n",
    "#class is given a probability and all add to 1. Highest one wins. "
   ]
  },
  {
   "cell_type": "code",
   "execution_count": 11,
   "id": "60bdeb0e",
   "metadata": {},
   "outputs": [],
   "source": [
    "#Sigmoid outputs probability. Can be used for non-mutually exclusive problems.\n",
    "#But, also good for binary mutually exclusive (cat or not cat). \n",
    "\n",
    "model.compile(loss='binary_crossentropy',\n",
    "              optimizer='adam',             #also try adam\n",
    "              metrics=['accuracy'])\n"
   ]
  },
  {
   "cell_type": "code",
   "execution_count": 12,
   "id": "24c3c9f8",
   "metadata": {},
   "outputs": [
    {
     "name": "stdout",
     "output_type": "stream",
     "text": [
      "Model: \"sequential\"\n",
      "_________________________________________________________________\n",
      "Layer (type)                 Output Shape              Param #   \n",
      "=================================================================\n",
      "conv2d (Conv2D)              (None, 148, 148, 32)      896       \n",
      "_________________________________________________________________\n",
      "activation (Activation)      (None, 148, 148, 32)      0         \n",
      "_________________________________________________________________\n",
      "max_pooling2d (MaxPooling2D) (None, 74, 74, 32)        0         \n",
      "_________________________________________________________________\n",
      "dropout (Dropout)            (None, 74, 74, 32)        0         \n",
      "_________________________________________________________________\n",
      "conv2d_1 (Conv2D)            (None, 72, 72, 32)        9248      \n",
      "_________________________________________________________________\n",
      "activation_1 (Activation)    (None, 72, 72, 32)        0         \n",
      "_________________________________________________________________\n",
      "max_pooling2d_1 (MaxPooling2 (None, 36, 36, 32)        0         \n",
      "_________________________________________________________________\n",
      "dropout_1 (Dropout)          (None, 36, 36, 32)        0         \n",
      "_________________________________________________________________\n",
      "conv2d_2 (Conv2D)            (None, 34, 34, 64)        18496     \n",
      "_________________________________________________________________\n",
      "activation_2 (Activation)    (None, 34, 34, 64)        0         \n",
      "_________________________________________________________________\n",
      "max_pooling2d_2 (MaxPooling2 (None, 17, 17, 64)        0         \n",
      "_________________________________________________________________\n",
      "dropout_2 (Dropout)          (None, 17, 17, 64)        0         \n",
      "_________________________________________________________________\n",
      "conv2d_3 (Conv2D)            (None, 15, 15, 64)        36928     \n",
      "_________________________________________________________________\n",
      "activation_3 (Activation)    (None, 15, 15, 64)        0         \n",
      "_________________________________________________________________\n",
      "max_pooling2d_3 (MaxPooling2 (None, 7, 7, 64)          0         \n",
      "_________________________________________________________________\n",
      "dropout_3 (Dropout)          (None, 7, 7, 64)          0         \n",
      "_________________________________________________________________\n",
      "flatten (Flatten)            (None, 3136)              0         \n",
      "_________________________________________________________________\n",
      "dense (Dense)                (None, 128)               401536    \n",
      "_________________________________________________________________\n",
      "activation_4 (Activation)    (None, 128)               0         \n",
      "_________________________________________________________________\n",
      "dropout_4 (Dropout)          (None, 128)               0         \n",
      "_________________________________________________________________\n",
      "dense_1 (Dense)              (None, 1)                 129       \n",
      "_________________________________________________________________\n",
      "activation_5 (Activation)    (None, 1)                 0         \n",
      "=================================================================\n",
      "Total params: 467,233\n",
      "Trainable params: 467,233\n",
      "Non-trainable params: 0\n",
      "_________________________________________________________________\n",
      "None\n"
     ]
    }
   ],
   "source": [
    "print(model.summary())"
   ]
  },
  {
   "cell_type": "code",
   "execution_count": 13,
   "id": "d40f4490",
   "metadata": {
    "scrolled": true
   },
   "outputs": [
    {
     "name": "stdout",
     "output_type": "stream",
     "text": [
      "Epoch 1/10\n",
      "400/400 [==============================] - 76s 188ms/step - loss: 0.4986 - accuracy: 0.7456 - val_loss: 0.4539 - val_accuracy: 0.7944\n",
      "Epoch 2/10\n",
      "400/400 [==============================] - 76s 191ms/step - loss: 0.4008 - accuracy: 0.8227 - val_loss: 0.5351 - val_accuracy: 0.7219\n",
      "Epoch 3/10\n",
      "400/400 [==============================] - 75s 188ms/step - loss: 0.3837 - accuracy: 0.8314 - val_loss: 0.4666 - val_accuracy: 0.7600\n",
      "Epoch 4/10\n",
      "400/400 [==============================] - 77s 193ms/step - loss: 0.3640 - accuracy: 0.8425 - val_loss: 0.4500 - val_accuracy: 0.7681\n",
      "Epoch 5/10\n",
      "400/400 [==============================] - 84s 209ms/step - loss: 0.3488 - accuracy: 0.8491 - val_loss: 0.4583 - val_accuracy: 0.7569\n",
      "Epoch 6/10\n",
      "400/400 [==============================] - 81s 203ms/step - loss: 0.3302 - accuracy: 0.8594 - val_loss: 0.3559 - val_accuracy: 0.8350\n",
      "Epoch 7/10\n",
      "400/400 [==============================] - 85s 212ms/step - loss: 0.2990 - accuracy: 0.8717 - val_loss: 0.3061 - val_accuracy: 0.8650\n",
      "Epoch 8/10\n",
      "400/400 [==============================] - 76s 190ms/step - loss: 0.2845 - accuracy: 0.8777 - val_loss: 0.2866 - val_accuracy: 0.8731\n",
      "Epoch 9/10\n",
      "400/400 [==============================] - 77s 193ms/step - loss: 0.2667 - accuracy: 0.8820 - val_loss: 0.3021 - val_accuracy: 0.8744\n",
      "Epoch 10/10\n",
      "400/400 [==============================] - 76s 191ms/step - loss: 0.2532 - accuracy: 0.8866 - val_loss: 0.3140 - val_accuracy: 0.8694\n"
     ]
    }
   ],
   "source": [
    "history = model.fit(X_train, \n",
    "                         y_train, \n",
    "                         batch_size = 16, \n",
    "                         verbose = 1, \n",
    "                         epochs = 10,      \n",
    "                         validation_data=(X_test,y_test),\n",
    "                         shuffle = False\n",
    "                     )"
   ]
  },
  {
   "cell_type": "code",
   "execution_count": 14,
   "id": "46eefd65",
   "metadata": {},
   "outputs": [
    {
     "name": "stdout",
     "output_type": "stream",
     "text": [
      "Epoch 1/10\n",
      "400/400 [==============================] - 79s 197ms/step - loss: 0.2486 - accuracy: 0.8895 - val_loss: 0.2964 - val_accuracy: 0.8637\n",
      "Epoch 2/10\n",
      "400/400 [==============================] - 79s 198ms/step - loss: 0.2259 - accuracy: 0.9052 - val_loss: 0.2690 - val_accuracy: 0.8788\n",
      "Epoch 3/10\n",
      "400/400 [==============================] - 79s 197ms/step - loss: 0.2219 - accuracy: 0.9047 - val_loss: 0.2935 - val_accuracy: 0.8737\n",
      "Epoch 4/10\n",
      "400/400 [==============================] - 77s 192ms/step - loss: 0.2168 - accuracy: 0.9038 - val_loss: 0.2670 - val_accuracy: 0.8794\n",
      "Epoch 5/10\n",
      "400/400 [==============================] - 76s 191ms/step - loss: 0.2052 - accuracy: 0.9094 - val_loss: 0.2406 - val_accuracy: 0.8894\n",
      "Epoch 6/10\n",
      "400/400 [==============================] - 84s 209ms/step - loss: 0.1981 - accuracy: 0.9158 - val_loss: 0.2480 - val_accuracy: 0.8869\n",
      "Epoch 7/10\n",
      "400/400 [==============================] - 80s 199ms/step - loss: 0.1834 - accuracy: 0.9217 - val_loss: 0.2445 - val_accuracy: 0.8894\n",
      "Epoch 8/10\n",
      "400/400 [==============================] - 80s 200ms/step - loss: 0.1785 - accuracy: 0.9225 - val_loss: 0.2830 - val_accuracy: 0.8600\n",
      "Epoch 9/10\n",
      "400/400 [==============================] - 78s 194ms/step - loss: 0.1776 - accuracy: 0.9247 - val_loss: 0.2428 - val_accuracy: 0.8875\n",
      "Epoch 10/10\n",
      "400/400 [==============================] - 85s 212ms/step - loss: 0.1737 - accuracy: 0.9250 - val_loss: 0.2819 - val_accuracy: 0.8612\n"
     ]
    }
   ],
   "source": [
    "history = history.model.fit(X_train, \n",
    "                         y_train, \n",
    "                         batch_size = 16, \n",
    "                         verbose = 1, \n",
    "                         epochs = 10,      \n",
    "                         validation_data=(X_test,y_test),\n",
    "                         shuffle = False\n",
    "                     )"
   ]
  },
  {
   "cell_type": "code",
   "execution_count": 15,
   "id": "37063539",
   "metadata": {},
   "outputs": [
    {
     "name": "stdout",
     "output_type": "stream",
     "text": [
      "Epoch 1/5\n",
      "400/400 [==============================] - 82s 204ms/step - loss: 0.1650 - accuracy: 0.9322 - val_loss: 0.2375 - val_accuracy: 0.8850\n",
      "Epoch 2/5\n",
      "400/400 [==============================] - 84s 209ms/step - loss: 0.1513 - accuracy: 0.9370 - val_loss: 0.3069 - val_accuracy: 0.8531\n",
      "Epoch 3/5\n",
      "400/400 [==============================] - 82s 205ms/step - loss: 0.1701 - accuracy: 0.9269 - val_loss: 0.2654 - val_accuracy: 0.8731\n",
      "Epoch 4/5\n",
      "400/400 [==============================] - 96s 240ms/step - loss: 0.1597 - accuracy: 0.9312 - val_loss: 0.2291 - val_accuracy: 0.8875\n",
      "Epoch 5/5\n",
      "400/400 [==============================] - 106s 266ms/step - loss: 0.1438 - accuracy: 0.9392 - val_loss: 0.2473 - val_accuracy: 0.8831\n"
     ]
    }
   ],
   "source": [
    "history = history.model.fit(X_train, \n",
    "                         y_train, \n",
    "                         batch_size = 16, \n",
    "                         verbose = 1, \n",
    "                         epochs = 5,      \n",
    "                         validation_data=(X_test,y_test),\n",
    "                         shuffle = False\n",
    "                     )"
   ]
  },
  {
   "cell_type": "code",
   "execution_count": 16,
   "id": "ffceb88e",
   "metadata": {},
   "outputs": [
    {
     "name": "stdout",
     "output_type": "stream",
     "text": [
      "Epoch 1/10\n",
      "200/200 [==============================] - 107s 532ms/step - loss: 0.1329 - accuracy: 0.9450 - val_loss: 0.2237 - val_accuracy: 0.8988\n",
      "Epoch 2/10\n",
      "200/200 [==============================] - 106s 531ms/step - loss: 0.1334 - accuracy: 0.9444 - val_loss: 0.2219 - val_accuracy: 0.9000\n",
      "Epoch 3/10\n",
      "200/200 [==============================] - 112s 559ms/step - loss: 0.1187 - accuracy: 0.9533 - val_loss: 0.2267 - val_accuracy: 0.8956\n",
      "Epoch 4/10\n",
      "200/200 [==============================] - 106s 530ms/step - loss: 0.1102 - accuracy: 0.9563 - val_loss: 0.2295 - val_accuracy: 0.9031\n",
      "Epoch 5/10\n",
      "200/200 [==============================] - 110s 549ms/step - loss: 0.1190 - accuracy: 0.9536 - val_loss: 0.2363 - val_accuracy: 0.8900\n",
      "Epoch 6/10\n",
      "200/200 [==============================] - 108s 542ms/step - loss: 0.1097 - accuracy: 0.9547 - val_loss: 0.2210 - val_accuracy: 0.9050\n",
      "Epoch 7/10\n",
      "200/200 [==============================] - 107s 534ms/step - loss: 0.1106 - accuracy: 0.9548 - val_loss: 0.2122 - val_accuracy: 0.9062\n",
      "Epoch 8/10\n",
      "200/200 [==============================] - 109s 545ms/step - loss: 0.1014 - accuracy: 0.9588 - val_loss: 0.2895 - val_accuracy: 0.8813\n",
      "Epoch 9/10\n",
      "200/200 [==============================] - 108s 540ms/step - loss: 0.1034 - accuracy: 0.9573 - val_loss: 0.2338 - val_accuracy: 0.8956\n",
      "Epoch 10/10\n",
      "200/200 [==============================] - 108s 543ms/step - loss: 0.1042 - accuracy: 0.9581 - val_loss: 0.2403 - val_accuracy: 0.8938\n"
     ]
    }
   ],
   "source": [
    "history = history.model.fit(X_train, \n",
    "                         y_train, \n",
    "                         batch_size = 32, \n",
    "                         verbose = 1, \n",
    "                         epochs = 10,      \n",
    "                         validation_data=(X_test,y_test),\n",
    "                         shuffle = False\n",
    "                     )"
   ]
  },
  {
   "cell_type": "code",
   "execution_count": 17,
   "id": "e288a0a1",
   "metadata": {},
   "outputs": [
    {
     "name": "stdout",
     "output_type": "stream",
     "text": [
      "Epoch 1/10\n",
      "200/200 [==============================] - 107s 534ms/step - loss: 0.1029 - accuracy: 0.9623 - val_loss: 0.2451 - val_accuracy: 0.8931\n",
      "Epoch 2/10\n",
      "200/200 [==============================] - 108s 540ms/step - loss: 0.0991 - accuracy: 0.9602 - val_loss: 0.2164 - val_accuracy: 0.9044\n",
      "Epoch 3/10\n",
      "200/200 [==============================] - 111s 553ms/step - loss: 0.0943 - accuracy: 0.9645 - val_loss: 0.2417 - val_accuracy: 0.8925\n",
      "Epoch 4/10\n",
      "200/200 [==============================] - 117s 584ms/step - loss: 0.0841 - accuracy: 0.9677 - val_loss: 0.4102 - val_accuracy: 0.8394\n",
      "Epoch 5/10\n",
      "200/200 [==============================] - 112s 560ms/step - loss: 0.0924 - accuracy: 0.9642 - val_loss: 0.2643 - val_accuracy: 0.8831\n",
      "Epoch 6/10\n",
      "200/200 [==============================] - 107s 537ms/step - loss: 0.0855 - accuracy: 0.9656 - val_loss: 0.2334 - val_accuracy: 0.9031\n",
      "Epoch 7/10\n",
      "200/200 [==============================] - 97s 487ms/step - loss: 0.0897 - accuracy: 0.9659 - val_loss: 0.2330 - val_accuracy: 0.8988\n",
      "Epoch 8/10\n",
      "200/200 [==============================] - 106s 530ms/step - loss: 0.0753 - accuracy: 0.9712 - val_loss: 0.3529 - val_accuracy: 0.8756\n",
      "Epoch 9/10\n",
      "200/200 [==============================] - 85s 424ms/step - loss: 0.0789 - accuracy: 0.9708 - val_loss: 0.2556 - val_accuracy: 0.8975\n",
      "Epoch 10/10\n",
      "200/200 [==============================] - 89s 445ms/step - loss: 0.0699 - accuracy: 0.9744 - val_loss: 0.2734 - val_accuracy: 0.8844\n"
     ]
    }
   ],
   "source": [
    "history = history.model.fit(X_train, \n",
    "                         y_train, \n",
    "                         batch_size = 32, \n",
    "                         verbose = 1, \n",
    "                         epochs = 10,      \n",
    "                         validation_data=(X_test,y_test),\n",
    "                         shuffle = False\n",
    "                     )"
   ]
  },
  {
   "cell_type": "code",
   "execution_count": null,
   "id": "1cb3c942",
   "metadata": {},
   "outputs": [],
   "source": []
  }
 ],
 "metadata": {
  "kernelspec": {
   "display_name": "Python 3",
   "language": "python",
   "name": "python3"
  },
  "language_info": {
   "codemirror_mode": {
    "name": "ipython",
    "version": 3
   },
   "file_extension": ".py",
   "mimetype": "text/x-python",
   "name": "python",
   "nbconvert_exporter": "python",
   "pygments_lexer": "ipython3",
   "version": "3.6.13"
  }
 },
 "nbformat": 4,
 "nbformat_minor": 5
}
