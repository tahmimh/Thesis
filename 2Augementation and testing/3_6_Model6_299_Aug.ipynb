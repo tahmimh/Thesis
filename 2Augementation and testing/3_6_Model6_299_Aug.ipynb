{
 "cells": [
  {
   "cell_type": "code",
   "execution_count": 11,
   "id": "096ba053",
   "metadata": {},
   "outputs": [],
   "source": [
    "import matplotlib.pyplot as plt\n",
    "import matplotlib.image as mpimg\n",
    "\n",
    "plt.style.use('classic')"
   ]
  },
  {
   "cell_type": "code",
   "execution_count": 12,
   "id": "8a676e68",
   "metadata": {},
   "outputs": [],
   "source": [
    "from keras.preprocessing.image import ImageDataGenerator\n",
    "from keras.models import Sequential\n",
    "from keras.layers import Conv2D, MaxPooling2D, BatchNormalization\n",
    "from keras.layers import Activation, Dropout, Flatten, Dense"
   ]
  },
  {
   "cell_type": "code",
   "execution_count": 13,
   "id": "b795a297",
   "metadata": {},
   "outputs": [],
   "source": [
    "import os\n",
    "import cv2\n",
    "from PIL import Image\n",
    "import numpy as np"
   ]
  },
  {
   "cell_type": "code",
   "execution_count": 14,
   "id": "216887b2",
   "metadata": {},
   "outputs": [],
   "source": [
    "image_directory = '299aug-nor-macular/'\n",
    "SIZE = 150\n",
    "dataset = []  #Many ways to handle data, you can use pandas. Here, we are using a list format.  \n",
    "label = []  #Place holders to define add labels. We will add 0 to all parasitized images and 1 to uninfected."
   ]
  },
  {
   "cell_type": "code",
   "execution_count": 15,
   "id": "f1a61af6",
   "metadata": {},
   "outputs": [],
   "source": [
    "macular_degeneration_images = os.listdir(image_directory + 'macular-degeneration/')\n",
    "for i, image_name in enumerate(macular_degeneration_images):    #Remember enumerate method adds a counter and returns the enumerate object\n",
    "    \n",
    "    if (image_name.split('.')[1] == 'jpg'):\n",
    "        image = cv2.imread(image_directory + 'macular-degeneration/' + image_name)\n",
    "        image = Image.fromarray(image, 'RGB')\n",
    "        image = image.resize((SIZE, SIZE))\n",
    "        dataset.append(np.array(image))\n",
    "        label.append(0)\n",
    "\n",
    "#Iterate through all images in Uninfected folder, resize to 64 x 64\n",
    "#Then save into the same numpy array 'dataset' but with label 1"
   ]
  },
  {
   "cell_type": "code",
   "execution_count": 16,
   "id": "38ba988e",
   "metadata": {},
   "outputs": [],
   "source": [
    "normal_images = os.listdir(image_directory + 'normal/')\n",
    "for i, image_name in enumerate(normal_images):\n",
    "    if (image_name.split('.')[1] == 'jpg'):\n",
    "        image = cv2.imread(image_directory + 'normal/' + image_name)\n",
    "        image = Image.fromarray(image, 'RGB')\n",
    "        image = image.resize((SIZE, SIZE))\n",
    "        dataset.append(np.array(image))\n",
    "        label.append(1)\n",
    "\n",
    "dataset = np.array(dataset)\n",
    "label = np.array(label)"
   ]
  },
  {
   "cell_type": "code",
   "execution_count": 17,
   "id": "ddf86c22",
   "metadata": {},
   "outputs": [],
   "source": [
    "from sklearn.model_selection import train_test_split\n",
    "#from keras.utils import to_categorical"
   ]
  },
  {
   "cell_type": "code",
   "execution_count": 18,
   "id": "6e6c7e22",
   "metadata": {},
   "outputs": [],
   "source": [
    "X_train, X_test, y_train, y_test = train_test_split(dataset, label, test_size = 0.20, random_state = 0)"
   ]
  },
  {
   "cell_type": "code",
   "execution_count": 19,
   "id": "29107bbe",
   "metadata": {},
   "outputs": [],
   "source": [
    "#Without scaling (normalize) the training may not converge. \n",
    "#Normalization is a rescaling of the data from the original range \n",
    "#so that all values are within the range of 0 and 1.\n",
    "from tensorflow.keras.utils import normalize\n",
    "X_train = normalize(X_train, axis=1)\n",
    "X_test = normalize(X_test, axis=1)\n",
    "\n",
    "#Do not do one-hot encoding as it generates a shape of (num, 2)\n",
    "#But the network expects an input of (num, 1) for the last layer for binary classification\n",
    "#y_train = to_categorical(y_train)\n",
    "#y_test = to_categorical(y_test)"
   ]
  },
  {
   "cell_type": "code",
   "execution_count": 27,
   "id": "478a8ce7",
   "metadata": {},
   "outputs": [],
   "source": [
    "# 2 conv and pool layers. with some normalization and drops in between.\n",
    "\n",
    "INPUT_SHAPE = (SIZE, SIZE, 3)   #change to (SIZE, SIZE, 3)\n",
    "\n",
    "\n",
    "model = Sequential()\n",
    "model.add(Conv2D(64, (3, 3), input_shape=INPUT_SHAPE))\n",
    "model.add(Activation('relu'))\n",
    "model.add(MaxPooling2D(pool_size=(2, 2)))\n",
    "model.add(Dropout(0.3))\n",
    "\n",
    "model.add(Conv2D(64, (3, 3), kernel_initializer = 'he_uniform'))\n",
    "model.add(Activation('relu'))\n",
    "model.add(MaxPooling2D(pool_size=(2, 2)))\n",
    "model.add(Dropout(0.3))\n",
    "\n",
    "\n",
    "model.add(Conv2D(64, (3, 3), kernel_initializer = 'he_uniform'))\n",
    "model.add(Activation('relu'))\n",
    "model.add(MaxPooling2D(pool_size=(2, 2)))\n",
    "model.add(Dropout(0.3))\n",
    "\n",
    "\n",
    "model.add(Conv2D(128, (3, 3), kernel_initializer = 'he_uniform'))\n",
    "model.add(Activation('relu'))\n",
    "model.add(MaxPooling2D(pool_size=(2, 2)))\n",
    "model.add(Dropout(0.3))\n",
    "\n",
    "model.add(Conv2D(128, (3, 3), kernel_initializer = 'he_uniform'))\n",
    "model.add(Activation('relu'))\n",
    "model.add(MaxPooling2D(pool_size=(2, 2)))\n",
    "model.add(Dropout(0.3))\n",
    "\n",
    "\n",
    "model.add(Flatten())\n",
    "model.add(Dense(256))\n",
    "model.add(Activation('relu'))\n",
    "model.add(Dropout(0.3))\n",
    "\n",
    "model.add(Dense(1))\n",
    "model.add(Activation('sigmoid'))  \n",
    "#Do not use softmax for binary classification\n",
    "#Softmax is useful for mutually exclusive classes, either cat or dog but not both.\n",
    "#Also, softmax outputs all add to 1. So good for multi class problems where each\n",
    "#class is given a probability and all add to 1. Highest one wins. "
   ]
  },
  {
   "cell_type": "code",
   "execution_count": 28,
   "id": "60bdeb0e",
   "metadata": {},
   "outputs": [],
   "source": [
    "#Sigmoid outputs probability. Can be used for non-mutually exclusive problems.\n",
    "#But, also good for binary mutually exclusive (cat or not cat). \n",
    "\n",
    "model.compile(loss='binary_crossentropy',\n",
    "              optimizer='adam',             #also try adam\n",
    "              metrics=['accuracy'])\n"
   ]
  },
  {
   "cell_type": "code",
   "execution_count": 29,
   "id": "24c3c9f8",
   "metadata": {},
   "outputs": [
    {
     "name": "stdout",
     "output_type": "stream",
     "text": [
      "Model: \"sequential_4\"\n",
      "_________________________________________________________________\n",
      "Layer (type)                 Output Shape              Param #   \n",
      "=================================================================\n",
      "conv2d_22 (Conv2D)           (None, 148, 148, 64)      1792      \n",
      "_________________________________________________________________\n",
      "activation_24 (Activation)   (None, 148, 148, 64)      0         \n",
      "_________________________________________________________________\n",
      "max_pooling2d_20 (MaxPooling (None, 74, 74, 64)        0         \n",
      "_________________________________________________________________\n",
      "dropout_22 (Dropout)         (None, 74, 74, 64)        0         \n",
      "_________________________________________________________________\n",
      "conv2d_23 (Conv2D)           (None, 72, 72, 64)        36928     \n",
      "_________________________________________________________________\n",
      "activation_25 (Activation)   (None, 72, 72, 64)        0         \n",
      "_________________________________________________________________\n",
      "max_pooling2d_21 (MaxPooling (None, 36, 36, 64)        0         \n",
      "_________________________________________________________________\n",
      "dropout_23 (Dropout)         (None, 36, 36, 64)        0         \n",
      "_________________________________________________________________\n",
      "conv2d_24 (Conv2D)           (None, 34, 34, 64)        36928     \n",
      "_________________________________________________________________\n",
      "activation_26 (Activation)   (None, 34, 34, 64)        0         \n",
      "_________________________________________________________________\n",
      "max_pooling2d_22 (MaxPooling (None, 17, 17, 64)        0         \n",
      "_________________________________________________________________\n",
      "dropout_24 (Dropout)         (None, 17, 17, 64)        0         \n",
      "_________________________________________________________________\n",
      "conv2d_25 (Conv2D)           (None, 15, 15, 128)       73856     \n",
      "_________________________________________________________________\n",
      "activation_27 (Activation)   (None, 15, 15, 128)       0         \n",
      "_________________________________________________________________\n",
      "max_pooling2d_23 (MaxPooling (None, 7, 7, 128)         0         \n",
      "_________________________________________________________________\n",
      "dropout_25 (Dropout)         (None, 7, 7, 128)         0         \n",
      "_________________________________________________________________\n",
      "conv2d_26 (Conv2D)           (None, 5, 5, 128)         147584    \n",
      "_________________________________________________________________\n",
      "activation_28 (Activation)   (None, 5, 5, 128)         0         \n",
      "_________________________________________________________________\n",
      "max_pooling2d_24 (MaxPooling (None, 2, 2, 128)         0         \n",
      "_________________________________________________________________\n",
      "dropout_26 (Dropout)         (None, 2, 2, 128)         0         \n",
      "_________________________________________________________________\n",
      "flatten_2 (Flatten)          (None, 512)               0         \n",
      "_________________________________________________________________\n",
      "dense_4 (Dense)              (None, 256)               131328    \n",
      "_________________________________________________________________\n",
      "activation_29 (Activation)   (None, 256)               0         \n",
      "_________________________________________________________________\n",
      "dropout_27 (Dropout)         (None, 256)               0         \n",
      "_________________________________________________________________\n",
      "dense_5 (Dense)              (None, 1)                 257       \n",
      "_________________________________________________________________\n",
      "activation_30 (Activation)   (None, 1)                 0         \n",
      "=================================================================\n",
      "Total params: 428,673\n",
      "Trainable params: 428,673\n",
      "Non-trainable params: 0\n",
      "_________________________________________________________________\n",
      "None\n"
     ]
    }
   ],
   "source": [
    "print(model.summary())"
   ]
  },
  {
   "cell_type": "code",
   "execution_count": 31,
   "id": "e288a0a1",
   "metadata": {},
   "outputs": [
    {
     "name": "stdout",
     "output_type": "stream",
     "text": [
      "Epoch 1/20\n",
      "200/200 [==============================] - 155s 773ms/step - loss: 0.5630 - accuracy: 0.6939 - val_loss: 0.5422 - val_accuracy: 0.7081\n",
      "Epoch 2/20\n",
      "200/200 [==============================] - 152s 758ms/step - loss: 0.4549 - accuracy: 0.7802 - val_loss: 0.4442 - val_accuracy: 0.7894\n",
      "Epoch 3/20\n",
      "200/200 [==============================] - 147s 733ms/step - loss: 0.4261 - accuracy: 0.7975 - val_loss: 0.4417 - val_accuracy: 0.7912\n",
      "Epoch 4/20\n",
      "200/200 [==============================] - 153s 768ms/step - loss: 0.3914 - accuracy: 0.8259 - val_loss: 0.4036 - val_accuracy: 0.8394\n",
      "Epoch 5/20\n",
      "200/200 [==============================] - 148s 741ms/step - loss: 0.3625 - accuracy: 0.8398 - val_loss: 0.3877 - val_accuracy: 0.8531\n",
      "Epoch 6/20\n",
      "200/200 [==============================] - 144s 722ms/step - loss: 0.3452 - accuracy: 0.8487 - val_loss: 0.4008 - val_accuracy: 0.8256\n",
      "Epoch 7/20\n",
      "200/200 [==============================] - 151s 755ms/step - loss: 0.3337 - accuracy: 0.8572 - val_loss: 0.3593 - val_accuracy: 0.8325\n",
      "Epoch 8/20\n",
      "200/200 [==============================] - 150s 749ms/step - loss: 0.3302 - accuracy: 0.8580 - val_loss: 0.3653 - val_accuracy: 0.8444\n",
      "Epoch 9/20\n",
      "200/200 [==============================] - 146s 728ms/step - loss: 0.3294 - accuracy: 0.8580 - val_loss: 0.3583 - val_accuracy: 0.8475\n",
      "Epoch 10/20\n",
      "200/200 [==============================] - 144s 721ms/step - loss: 0.3297 - accuracy: 0.8573 - val_loss: 0.3551 - val_accuracy: 0.8562\n",
      "Epoch 11/20\n",
      "200/200 [==============================] - 144s 719ms/step - loss: 0.3080 - accuracy: 0.8672 - val_loss: 0.3545 - val_accuracy: 0.8494\n",
      "Epoch 12/20\n",
      "200/200 [==============================] - 147s 737ms/step - loss: 0.3111 - accuracy: 0.8662 - val_loss: 0.4179 - val_accuracy: 0.8025\n",
      "Epoch 13/20\n",
      "200/200 [==============================] - 148s 738ms/step - loss: 0.3066 - accuracy: 0.8694 - val_loss: 0.3815 - val_accuracy: 0.8138\n",
      "Epoch 14/20\n",
      "200/200 [==============================] - 155s 778ms/step - loss: 0.2913 - accuracy: 0.8745 - val_loss: 0.3664 - val_accuracy: 0.8294\n",
      "Epoch 15/20\n",
      "200/200 [==============================] - 137s 686ms/step - loss: 0.2940 - accuracy: 0.8747 - val_loss: 0.4124 - val_accuracy: 0.7962\n",
      "Epoch 16/20\n",
      "200/200 [==============================] - 138s 690ms/step - loss: 0.2894 - accuracy: 0.8792 - val_loss: 0.3801 - val_accuracy: 0.8256\n",
      "Epoch 17/20\n",
      "200/200 [==============================] - 136s 681ms/step - loss: 0.2906 - accuracy: 0.8722 - val_loss: 0.3660 - val_accuracy: 0.8200\n",
      "Epoch 18/20\n",
      "200/200 [==============================] - 136s 679ms/step - loss: 0.2851 - accuracy: 0.8744 - val_loss: 0.3175 - val_accuracy: 0.8669\n",
      "Epoch 19/20\n",
      "200/200 [==============================] - 136s 679ms/step - loss: 0.2776 - accuracy: 0.8772 - val_loss: 0.3358 - val_accuracy: 0.8500\n",
      "Epoch 20/20\n",
      "200/200 [==============================] - 143s 717ms/step - loss: 0.2744 - accuracy: 0.8797 - val_loss: 0.3329 - val_accuracy: 0.8369\n"
     ]
    }
   ],
   "source": [
    "history = model.fit(X_train, \n",
    "                         y_train, \n",
    "                         batch_size = 32, \n",
    "                         verbose = 1, \n",
    "                         epochs = 20,      \n",
    "                         validation_data=(X_test,y_test),\n",
    "                         shuffle = False\n",
    "                     )"
   ]
  },
  {
   "cell_type": "code",
   "execution_count": 32,
   "id": "1cb3c942",
   "metadata": {},
   "outputs": [
    {
     "name": "stdout",
     "output_type": "stream",
     "text": [
      "Epoch 1/5\n",
      "200/200 [==============================] - 137s 686ms/step - loss: 0.2629 - accuracy: 0.8814 - val_loss: 0.2796 - val_accuracy: 0.8775\n",
      "Epoch 2/5\n",
      "200/200 [==============================] - 136s 681ms/step - loss: 0.2588 - accuracy: 0.8844 - val_loss: 0.3050 - val_accuracy: 0.8531\n",
      "Epoch 3/5\n",
      "200/200 [==============================] - 136s 681ms/step - loss: 0.2596 - accuracy: 0.8814 - val_loss: 0.3145 - val_accuracy: 0.8494\n",
      "Epoch 4/5\n",
      "200/200 [==============================] - 142s 710ms/step - loss: 0.2417 - accuracy: 0.8878 - val_loss: 0.2906 - val_accuracy: 0.8612\n",
      "Epoch 5/5\n",
      "200/200 [==============================] - 137s 687ms/step - loss: 0.2367 - accuracy: 0.8936 - val_loss: 0.2762 - val_accuracy: 0.8681\n"
     ]
    }
   ],
   "source": [
    "history = model.fit(X_train, \n",
    "                         y_train, \n",
    "                         batch_size = 32, \n",
    "                         verbose = 1, \n",
    "                         epochs = 5,      \n",
    "                         validation_data=(X_test,y_test),\n",
    "                         shuffle = False\n",
    "                     )"
   ]
  },
  {
   "cell_type": "code",
   "execution_count": null,
   "id": "b24893ea",
   "metadata": {},
   "outputs": [],
   "source": []
  }
 ],
 "metadata": {
  "kernelspec": {
   "display_name": "Python 3",
   "language": "python",
   "name": "python3"
  },
  "language_info": {
   "codemirror_mode": {
    "name": "ipython",
    "version": 3
   },
   "file_extension": ".py",
   "mimetype": "text/x-python",
   "name": "python",
   "nbconvert_exporter": "python",
   "pygments_lexer": "ipython3",
   "version": "3.6.13"
  }
 },
 "nbformat": 4,
 "nbformat_minor": 5
}
