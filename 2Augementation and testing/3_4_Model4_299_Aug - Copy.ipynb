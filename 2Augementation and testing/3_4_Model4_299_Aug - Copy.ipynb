{
 "cells": [
  {
   "cell_type": "code",
   "execution_count": 11,
   "id": "096ba053",
   "metadata": {},
   "outputs": [],
   "source": [
    "import matplotlib.pyplot as plt\n",
    "import matplotlib.image as mpimg\n",
    "\n",
    "plt.style.use('classic')"
   ]
  },
  {
   "cell_type": "code",
   "execution_count": 12,
   "id": "8a676e68",
   "metadata": {},
   "outputs": [],
   "source": [
    "from keras.preprocessing.image import ImageDataGenerator\n",
    "from keras.models import Sequential\n",
    "from keras.layers import Conv2D, MaxPooling2D, BatchNormalization\n",
    "from keras.layers import Activation, Dropout, Flatten, Dense"
   ]
  },
  {
   "cell_type": "code",
   "execution_count": 13,
   "id": "b795a297",
   "metadata": {},
   "outputs": [],
   "source": [
    "import os\n",
    "import cv2\n",
    "from PIL import Image\n",
    "import numpy as np"
   ]
  },
  {
   "cell_type": "code",
   "execution_count": 14,
   "id": "216887b2",
   "metadata": {},
   "outputs": [],
   "source": [
    "image_directory = '299aug-nor-macular/'\n",
    "SIZE = 150\n",
    "dataset = []  #Many ways to handle data, you can use pandas. Here, we are using a list format.  \n",
    "label = []  #Place holders to define add labels. We will add 0 to all parasitized images and 1 to uninfected."
   ]
  },
  {
   "cell_type": "code",
   "execution_count": 15,
   "id": "f1a61af6",
   "metadata": {},
   "outputs": [],
   "source": [
    "macular_degeneration_images = os.listdir(image_directory + 'macular-degeneration/')\n",
    "for i, image_name in enumerate(macular_degeneration_images):    #Remember enumerate method adds a counter and returns the enumerate object\n",
    "    \n",
    "    if (image_name.split('.')[1] == 'jpg'):\n",
    "        image = cv2.imread(image_directory + 'macular-degeneration/' + image_name)\n",
    "        image = Image.fromarray(image, 'RGB')\n",
    "        image = image.resize((SIZE, SIZE))\n",
    "        dataset.append(np.array(image))\n",
    "        label.append(0)\n",
    "\n",
    "#Iterate through all images in Uninfected folder, resize to 64 x 64\n",
    "#Then save into the same numpy array 'dataset' but with label 1"
   ]
  },
  {
   "cell_type": "code",
   "execution_count": 16,
   "id": "38ba988e",
   "metadata": {},
   "outputs": [],
   "source": [
    "normal_images = os.listdir(image_directory + 'normal/')\n",
    "for i, image_name in enumerate(normal_images):\n",
    "    if (image_name.split('.')[1] == 'jpg'):\n",
    "        image = cv2.imread(image_directory + 'normal/' + image_name)\n",
    "        image = Image.fromarray(image, 'RGB')\n",
    "        image = image.resize((SIZE, SIZE))\n",
    "        dataset.append(np.array(image))\n",
    "        label.append(1)\n",
    "\n",
    "dataset = np.array(dataset)\n",
    "label = np.array(label)"
   ]
  },
  {
   "cell_type": "code",
   "execution_count": 17,
   "id": "ddf86c22",
   "metadata": {},
   "outputs": [],
   "source": [
    "from sklearn.model_selection import train_test_split\n",
    "#from keras.utils import to_categorical"
   ]
  },
  {
   "cell_type": "code",
   "execution_count": 18,
   "id": "6e6c7e22",
   "metadata": {},
   "outputs": [],
   "source": [
    "X_train, X_test, y_train, y_test = train_test_split(dataset, label, test_size = 0.20, random_state = 0)"
   ]
  },
  {
   "cell_type": "code",
   "execution_count": 19,
   "id": "29107bbe",
   "metadata": {},
   "outputs": [],
   "source": [
    "#Without scaling (normalize) the training may not converge. \n",
    "#Normalization is a rescaling of the data from the original range \n",
    "#so that all values are within the range of 0 and 1.\n",
    "from tensorflow.keras.utils import normalize\n",
    "X_train = normalize(X_train, axis=1)\n",
    "X_test = normalize(X_test, axis=1)\n",
    "\n",
    "#Do not do one-hot encoding as it generates a shape of (num, 2)\n",
    "#But the network expects an input of (num, 1) for the last layer for binary classification\n",
    "#y_train = to_categorical(y_train)\n",
    "#y_test = to_categorical(y_test)"
   ]
  },
  {
   "cell_type": "code",
   "execution_count": 20,
   "id": "478a8ce7",
   "metadata": {},
   "outputs": [],
   "source": [
    "###2 conv and pool layers. with some normalization and drops in between.\n",
    "\n",
    "INPUT_SHAPE = (SIZE, SIZE, 3)   #change to (SIZE, SIZE, 3)\n",
    "\n",
    "\n",
    "model = Sequential()\n",
    "model.add(Conv2D(32, (3, 3), input_shape=INPUT_SHAPE))\n",
    "model.add(Activation('relu'))\n",
    "model.add(MaxPooling2D(pool_size=(2, 2)))\n",
    "\n",
    "model.add(Conv2D(32, (3, 3), kernel_initializer = 'he_uniform'))\n",
    "model.add(Activation('relu'))\n",
    "model.add(MaxPooling2D(pool_size=(2, 2)))\n",
    "\n",
    "model.add(Conv2D(64, (3, 3), kernel_initializer = 'he_uniform'))\n",
    "model.add(Activation('relu'))\n",
    "model.add(MaxPooling2D(pool_size=(2, 2)))\n",
    "\n",
    "model.add(Conv2D(64, (3, 3), kernel_initializer = 'he_uniform'))\n",
    "model.add(Activation('relu'))\n",
    "model.add(MaxPooling2D(pool_size=(2, 2)))\n",
    "\n",
    "model.add(Flatten())\n",
    "model.add(Dense(64))\n",
    "model.add(Activation('relu'))\n",
    "model.add(Dropout(0.3))\n",
    "\n",
    "model.add(Dense(1))\n",
    "model.add(Activation('sigmoid'))  \n",
    "#Do not use softmax for binary classification\n",
    "#Softmax is useful for mutually exclusive classes, either cat or dog but not both.\n",
    "#Also, softmax outputs all add to 1. So good for multi class problems where each\n",
    "#class is given a probability and all add to 1. Highest one wins. "
   ]
  },
  {
   "cell_type": "code",
   "execution_count": 21,
   "id": "60bdeb0e",
   "metadata": {},
   "outputs": [],
   "source": [
    "#Sigmoid outputs probability. Can be used for non-mutually exclusive problems.\n",
    "#But, also good for binary mutually exclusive (cat or not cat). \n",
    "\n",
    "model.compile(loss='binary_crossentropy',\n",
    "              optimizer='adam',             #also try adam\n",
    "              metrics=['accuracy'])\n"
   ]
  },
  {
   "cell_type": "code",
   "execution_count": 22,
   "id": "24c3c9f8",
   "metadata": {},
   "outputs": [
    {
     "name": "stdout",
     "output_type": "stream",
     "text": [
      "Model: \"sequential\"\n",
      "_________________________________________________________________\n",
      "Layer (type)                 Output Shape              Param #   \n",
      "=================================================================\n",
      "conv2d (Conv2D)              (None, 148, 148, 32)      896       \n",
      "_________________________________________________________________\n",
      "activation (Activation)      (None, 148, 148, 32)      0         \n",
      "_________________________________________________________________\n",
      "max_pooling2d (MaxPooling2D) (None, 74, 74, 32)        0         \n",
      "_________________________________________________________________\n",
      "conv2d_1 (Conv2D)            (None, 72, 72, 32)        9248      \n",
      "_________________________________________________________________\n",
      "activation_1 (Activation)    (None, 72, 72, 32)        0         \n",
      "_________________________________________________________________\n",
      "max_pooling2d_1 (MaxPooling2 (None, 36, 36, 32)        0         \n",
      "_________________________________________________________________\n",
      "conv2d_2 (Conv2D)            (None, 34, 34, 64)        18496     \n",
      "_________________________________________________________________\n",
      "activation_2 (Activation)    (None, 34, 34, 64)        0         \n",
      "_________________________________________________________________\n",
      "max_pooling2d_2 (MaxPooling2 (None, 17, 17, 64)        0         \n",
      "_________________________________________________________________\n",
      "conv2d_3 (Conv2D)            (None, 15, 15, 64)        36928     \n",
      "_________________________________________________________________\n",
      "activation_3 (Activation)    (None, 15, 15, 64)        0         \n",
      "_________________________________________________________________\n",
      "max_pooling2d_3 (MaxPooling2 (None, 7, 7, 64)          0         \n",
      "_________________________________________________________________\n",
      "flatten (Flatten)            (None, 3136)              0         \n",
      "_________________________________________________________________\n",
      "dense (Dense)                (None, 64)                200768    \n",
      "_________________________________________________________________\n",
      "activation_4 (Activation)    (None, 64)                0         \n",
      "_________________________________________________________________\n",
      "dropout (Dropout)            (None, 64)                0         \n",
      "_________________________________________________________________\n",
      "dense_1 (Dense)              (None, 1)                 65        \n",
      "_________________________________________________________________\n",
      "activation_5 (Activation)    (None, 1)                 0         \n",
      "=================================================================\n",
      "Total params: 266,401\n",
      "Trainable params: 266,401\n",
      "Non-trainable params: 0\n",
      "_________________________________________________________________\n",
      "None\n"
     ]
    }
   ],
   "source": [
    "print(model.summary())"
   ]
  },
  {
   "cell_type": "code",
   "execution_count": 23,
   "id": "d40f4490",
   "metadata": {
    "scrolled": true
   },
   "outputs": [
    {
     "name": "stdout",
     "output_type": "stream",
     "text": [
      "Epoch 1/10\n",
      "100/100 [==============================] - 49s 490ms/step - loss: 0.5061 - accuracy: 0.7292 - val_loss: 0.3855 - val_accuracy: 0.8250\n",
      "Epoch 2/10\n",
      "100/100 [==============================] - 49s 495ms/step - loss: 0.3798 - accuracy: 0.8295 - val_loss: 0.3609 - val_accuracy: 0.8406\n",
      "Epoch 3/10\n",
      "100/100 [==============================] - 50s 504ms/step - loss: 0.3478 - accuracy: 0.8511 - val_loss: 0.3273 - val_accuracy: 0.8569\n",
      "Epoch 4/10\n",
      "100/100 [==============================] - 51s 506ms/step - loss: 0.3188 - accuracy: 0.8655 - val_loss: 0.3107 - val_accuracy: 0.8650\n",
      "Epoch 5/10\n",
      "100/100 [==============================] - 51s 515ms/step - loss: 0.2947 - accuracy: 0.8745 - val_loss: 0.3220 - val_accuracy: 0.8619\n",
      "Epoch 6/10\n",
      "100/100 [==============================] - 52s 522ms/step - loss: 0.2905 - accuracy: 0.8798 - val_loss: 0.3115 - val_accuracy: 0.8656\n",
      "Epoch 7/10\n",
      "100/100 [==============================] - 51s 508ms/step - loss: 0.2850 - accuracy: 0.8813 - val_loss: 0.3033 - val_accuracy: 0.8775\n",
      "Epoch 8/10\n",
      "100/100 [==============================] - 51s 513ms/step - loss: 0.2793 - accuracy: 0.8839 - val_loss: 0.3432 - val_accuracy: 0.8450\n",
      "Epoch 9/10\n",
      "100/100 [==============================] - 61s 613ms/step - loss: 0.2695 - accuracy: 0.8875 - val_loss: 0.2738 - val_accuracy: 0.8819\n",
      "Epoch 10/10\n",
      "100/100 [==============================] - 65s 646ms/step - loss: 0.2645 - accuracy: 0.8875 - val_loss: 0.2786 - val_accuracy: 0.8800\n"
     ]
    }
   ],
   "source": [
    "history = model.fit(X_train, \n",
    "                         y_train, \n",
    "                         batch_size = 64, \n",
    "                         verbose = 1, \n",
    "                         epochs = 10,      \n",
    "                         validation_data=(X_test,y_test),\n",
    "                         shuffle = False\n",
    "                     )"
   ]
  },
  {
   "cell_type": "code",
   "execution_count": 25,
   "id": "4ea8c56d",
   "metadata": {},
   "outputs": [
    {
     "name": "stdout",
     "output_type": "stream",
     "text": [
      "Epoch 1/10\n",
      "100/100 [==============================] - 59s 590ms/step - loss: 0.2341 - accuracy: 0.9020 - val_loss: 0.2696 - val_accuracy: 0.8838\n",
      "Epoch 2/10\n",
      "100/100 [==============================] - 61s 610ms/step - loss: 0.2221 - accuracy: 0.9050 - val_loss: 0.2684 - val_accuracy: 0.8775\n",
      "Epoch 3/10\n",
      "100/100 [==============================] - 60s 603ms/step - loss: 0.2182 - accuracy: 0.9081 - val_loss: 0.3296 - val_accuracy: 0.8481\n",
      "Epoch 4/10\n",
      "100/100 [==============================] - 58s 581ms/step - loss: 0.2166 - accuracy: 0.9083 - val_loss: 0.2804 - val_accuracy: 0.8725\n",
      "Epoch 5/10\n",
      "100/100 [==============================] - 55s 550ms/step - loss: 0.2008 - accuracy: 0.9137 - val_loss: 0.2765 - val_accuracy: 0.8806\n",
      "Epoch 6/10\n",
      "100/100 [==============================] - 58s 576ms/step - loss: 0.1844 - accuracy: 0.9245 - val_loss: 0.2861 - val_accuracy: 0.8819\n",
      "Epoch 7/10\n",
      "100/100 [==============================] - 54s 536ms/step - loss: 0.1679 - accuracy: 0.9330 - val_loss: 0.2820 - val_accuracy: 0.8850\n",
      "Epoch 8/10\n",
      "100/100 [==============================] - 59s 594ms/step - loss: 0.1620 - accuracy: 0.9314 - val_loss: 0.3073 - val_accuracy: 0.8750\n",
      "Epoch 9/10\n",
      "100/100 [==============================] - 58s 585ms/step - loss: 0.1528 - accuracy: 0.9373 - val_loss: 0.3219 - val_accuracy: 0.8819\n",
      "Epoch 10/10\n",
      "100/100 [==============================] - 59s 591ms/step - loss: 0.1429 - accuracy: 0.9395 - val_loss: 0.3739 - val_accuracy: 0.8681\n"
     ]
    }
   ],
   "source": [
    "history = history.model.fit(X_train, \n",
    "                         y_train, \n",
    "                         batch_size = 64, \n",
    "                         verbose = 1, \n",
    "                         epochs = 10,      \n",
    "                         validation_data=(X_test,y_test),\n",
    "                         shuffle = False\n",
    "                     )"
   ]
  },
  {
   "cell_type": "code",
   "execution_count": 26,
   "id": "023f9ef1",
   "metadata": {},
   "outputs": [
    {
     "name": "stdout",
     "output_type": "stream",
     "text": [
      "Epoch 1/10\n",
      "100/100 [==============================] - 53s 526ms/step - loss: 0.1287 - accuracy: 0.9469 - val_loss: 0.3626 - val_accuracy: 0.8669\n",
      "Epoch 2/10\n",
      "100/100 [==============================] - 59s 591ms/step - loss: 0.1265 - accuracy: 0.9495 - val_loss: 0.3228 - val_accuracy: 0.8831\n",
      "Epoch 3/10\n",
      "100/100 [==============================] - 62s 624ms/step - loss: 0.1118 - accuracy: 0.9567 - val_loss: 0.3824 - val_accuracy: 0.8744\n",
      "Epoch 4/10\n",
      "100/100 [==============================] - 54s 541ms/step - loss: 0.1035 - accuracy: 0.9631 - val_loss: 0.3895 - val_accuracy: 0.8781\n",
      "Epoch 5/10\n",
      "100/100 [==============================] - 59s 588ms/step - loss: 0.0920 - accuracy: 0.9630 - val_loss: 0.4663 - val_accuracy: 0.8675\n",
      "Epoch 6/10\n",
      "100/100 [==============================] - 56s 559ms/step - loss: 0.0816 - accuracy: 0.9688 - val_loss: 0.4063 - val_accuracy: 0.8781\n",
      "Epoch 7/10\n",
      "100/100 [==============================] - 58s 580ms/step - loss: 0.0788 - accuracy: 0.9706 - val_loss: 0.4235 - val_accuracy: 0.8800\n",
      "Epoch 8/10\n",
      "100/100 [==============================] - 56s 557ms/step - loss: 0.0668 - accuracy: 0.9747 - val_loss: 0.4709 - val_accuracy: 0.8756\n",
      "Epoch 9/10\n",
      "100/100 [==============================] - 74s 745ms/step - loss: 0.0602 - accuracy: 0.9791 - val_loss: 0.4433 - val_accuracy: 0.8706\n",
      "Epoch 10/10\n",
      "100/100 [==============================] - 78s 781ms/step - loss: 0.0623 - accuracy: 0.9772 - val_loss: 0.5007 - val_accuracy: 0.8706\n"
     ]
    }
   ],
   "source": [
    "history = history.model.fit(X_train, \n",
    "                         y_train, \n",
    "                         batch_size = 64, \n",
    "                         verbose = 1, \n",
    "                         epochs = 10,      \n",
    "                         validation_data=(X_test,y_test),\n",
    "                         shuffle = False\n",
    "                     )"
   ]
  },
  {
   "cell_type": "code",
   "execution_count": null,
   "id": "46eefd65",
   "metadata": {},
   "outputs": [],
   "source": []
  }
 ],
 "metadata": {
  "kernelspec": {
   "display_name": "Python 3",
   "language": "python",
   "name": "python3"
  },
  "language_info": {
   "codemirror_mode": {
    "name": "ipython",
    "version": 3
   },
   "file_extension": ".py",
   "mimetype": "text/x-python",
   "name": "python",
   "nbconvert_exporter": "python",
   "pygments_lexer": "ipython3",
   "version": "3.6.13"
  }
 },
 "nbformat": 4,
 "nbformat_minor": 5
}
