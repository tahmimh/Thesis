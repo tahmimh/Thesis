{
 "cells": [
  {
   "cell_type": "markdown",
   "id": "3fd72923",
   "metadata": {},
   "source": [
    "# Making the dataset as Multiclass"
   ]
  },
  {
   "cell_type": "code",
   "execution_count": 1,
   "id": "ef3759be",
   "metadata": {},
   "outputs": [],
   "source": [
    "import pandas as pd\n",
    "import numpy as np\n",
    "import matplotlib.pyplot as plt\n",
    "import cv2\n",
    "import os\n",
    "import random\n",
    "from PIL import Image\n",
    "import os\n",
    "plt.rcParams[\"axes.grid\"] = False\n",
    "plt.style.use('dark_background')"
   ]
  },
  {
   "cell_type": "code",
   "execution_count": 2,
   "id": "cb753510",
   "metadata": {},
   "outputs": [
    {
     "data": {
      "text/plain": [
       "'C:\\\\Users\\\\tht19\\\\Documents\\\\ThesisCode\\\\DataExplore'"
      ]
     },
     "execution_count": 2,
     "metadata": {},
     "output_type": "execute_result"
    }
   ],
   "source": [
    "os.getcwd()"
   ]
  },
  {
   "cell_type": "code",
   "execution_count": 3,
   "id": "b6e96616",
   "metadata": {},
   "outputs": [],
   "source": [
    "# read csv file\n",
    "df = pd.read_csv('train_labels.csv')"
   ]
  },
  {
   "cell_type": "code",
   "execution_count": 4,
   "id": "192ebf59",
   "metadata": {},
   "outputs": [
    {
     "data": {
      "text/plain": [
       "opacity                                                                     671\n",
       "normal                                                                      525\n",
       "glaucoma                                                                    327\n",
       "macular degeneration                                                        299\n",
       "diabetic retinopathy                                                        212\n",
       "opacity, macular degeneration                                               212\n",
       "opacity, diabetic retinopathy                                               186\n",
       "retinal vascular occlusion                                                  170\n",
       "diabetic retinopathy, macular edema                                         162\n",
       "opacity, diabetic retinopathy, macular edema                                154\n",
       "opacity, glaucoma                                                           140\n",
       "macular edema, retinal vascular occlusion                                    74\n",
       "opacity, macular edema, retinal vascular occlusion                           62\n",
       "opacity, retinal vascular occlusion                                          55\n",
       "glaucoma, macular degeneration                                               31\n",
       "macular edema                                                                27\n",
       "glaucoma, retinal vascular occlusion                                         27\n",
       "opacity, glaucoma, macular degeneration                                      16\n",
       "diabetic retinopathy, glaucoma                                               15\n",
       "glaucoma, macular edema, retinal vascular occlusion                          14\n",
       "opacity, glaucoma, retinal vascular occlusion                                10\n",
       "opacity, glaucoma, macular edema, retinal vascular occlusion                  8\n",
       "opacity, diabetic retinopathy, macular degeneration                           5\n",
       "diabetic retinopathy, retinal vascular occlusion                              5\n",
       "opacity, diabetic retinopathy, retinal vascular occlusion                     4\n",
       "glaucoma, macular edema                                                       3\n",
       "opacity, macular degeneration, retinal vascular occlusion                     3\n",
       "diabetic retinopathy, glaucoma, macular edema                                 3\n",
       "opacity, diabetic retinopathy, macular edema, retinal vascular occlusion      2\n",
       "opacity, diabetic retinopathy, macular edema, macular degeneration            2\n",
       "macular degeneration, retinal vascular occlusion                              2\n",
       "opacity, macular edema                                                        2\n",
       "diabetic retinopathy, macular degeneration                                    2\n",
       "diabetic retinopathy, macular edema, retinal vascular occlusion               2\n",
       "glaucoma, macular degeneration, retinal vascular occlusion                    2\n",
       "opacity, diabetic retinopathy, glaucoma, macular edema                        1\n",
       "Name: labels, dtype: int64"
      ]
     },
     "execution_count": 4,
     "metadata": {},
     "output_type": "execute_result"
    }
   ],
   "source": [
    "# check the values\n",
    "df.labels.value_counts()"
   ]
  },
  {
   "cell_type": "markdown",
   "id": "01429968",
   "metadata": {},
   "source": [
    " ## Separting the data according to it's label"
   ]
  },
  {
   "cell_type": "code",
   "execution_count": 9,
   "id": "b0ea63ed",
   "metadata": {},
   "outputs": [],
   "source": [
    "def ftb(category, in_dir, out_dir):\n",
    "    images = df.loc[(df.labels == category), 'filename'].values.tolist()\n",
    "    for i in images:\n",
    "        img = cv2.imread(in_dir + '\\\\'+ i)\n",
    "        cv2.imwrite(os.path.join(out_dir, i), img)"
   ]
  },
  {
   "cell_type": "code",
   "execution_count": 10,
   "id": "ab882d0a",
   "metadata": {},
   "outputs": [],
   "source": [
    "ftb('opacity', r'D:\\Thesis\\Dataset\\varetinadisease\\train\\train_resized', r'D:\\Thesis\\Dataset\\varetinadisease\\train\\New folder\\opacity')"
   ]
  },
  {
   "cell_type": "code",
   "execution_count": 11,
   "id": "a29c076a",
   "metadata": {},
   "outputs": [],
   "source": [
    "ftb('normal', r'D:\\Thesis\\Dataset\\varetinadisease\\train\\train_resized', r'D:\\Thesis\\Dataset\\varetinadisease\\train\\New folder\\normal')"
   ]
  },
  {
   "cell_type": "code",
   "execution_count": 13,
   "id": "b4ad383c",
   "metadata": {},
   "outputs": [],
   "source": [
    "ftb('glaucoma', r'D:\\Thesis\\Dataset\\varetinadisease\\train\\train_resized', r'D:\\Thesis\\Dataset\\varetinadisease\\train\\New folder\\glaucoma')"
   ]
  },
  {
   "cell_type": "code",
   "execution_count": 14,
   "id": "0d3ef119",
   "metadata": {},
   "outputs": [],
   "source": [
    "ftb('macular degeneration', r'D:\\Thesis\\Dataset\\varetinadisease\\train\\train_resized', r'D:\\Thesis\\Dataset\\varetinadisease\\train\\New folder\\macular-degeneration')"
   ]
  },
  {
   "cell_type": "code",
   "execution_count": 15,
   "id": "628d3e97",
   "metadata": {},
   "outputs": [],
   "source": [
    "ftb('diabetic retinopathy', r'D:\\Thesis\\Dataset\\varetinadisease\\train\\train_resized', r'D:\\Thesis\\Dataset\\varetinadisease\\train\\New folder\\diabetic-retinopathy')"
   ]
  },
  {
   "cell_type": "code",
   "execution_count": 16,
   "id": "7bf565a6",
   "metadata": {},
   "outputs": [],
   "source": [
    "ftb('retinal vascular occlusion', r'D:\\Thesis\\Dataset\\varetinadisease\\train\\train_resized', r'D:\\Thesis\\Dataset\\varetinadisease\\train\\New folder\\retinal-vascular-occlusion')"
   ]
  },
  {
   "cell_type": "code",
   "execution_count": 17,
   "id": "e4b0f62a",
   "metadata": {},
   "outputs": [],
   "source": [
    "ftb('macular edema', r'D:\\Thesis\\Dataset\\varetinadisease\\train\\train_resized', r'D:\\Thesis\\Dataset\\varetinadisease\\train\\New folder\\macular-edema')"
   ]
  },
  {
   "cell_type": "code",
   "execution_count": null,
   "id": "01325048",
   "metadata": {},
   "outputs": [],
   "source": []
  }
 ],
 "metadata": {
  "kernelspec": {
   "display_name": "Python 3",
   "language": "python",
   "name": "python3"
  },
  "language_info": {
   "codemirror_mode": {
    "name": "ipython",
    "version": 3
   },
   "file_extension": ".py",
   "mimetype": "text/x-python",
   "name": "python",
   "nbconvert_exporter": "python",
   "pygments_lexer": "ipython3",
   "version": "3.6.13"
  }
 },
 "nbformat": 4,
 "nbformat_minor": 5
}
