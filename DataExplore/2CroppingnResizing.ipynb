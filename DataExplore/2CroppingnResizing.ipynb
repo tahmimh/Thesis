{
 "cells": [
  {
   "cell_type": "markdown",
   "id": "996c2902",
   "metadata": {},
   "source": [
    "# Cropping and resizing of the images"
   ]
  },
  {
   "cell_type": "markdown",
   "id": "553e99a4",
   "metadata": {},
   "source": [
    "Task 1: Cropping the images, so that the retina fills the picture completely\n",
    "\n",
    "Task 2: Resizing of the cropped images to 512x512, so that all images are of the same size\n",
    "Ressources for use and problem solving\n",
    "\n",
    "Deep Learning on Retina Images as Screening Tool for Diagnostic Decision Support \n",
    "\n",
    "https://arxiv.org/ftp/arxiv/papers/1807/1807.09232.pdf\n",
    "https://opencv.org/\n",
    "https://pythonexamples.org/python-opencv-cv2-resize-image/"
   ]
  },
  {
   "cell_type": "code",
   "execution_count": 15,
   "id": "a09c9930",
   "metadata": {},
   "outputs": [],
   "source": [
    "import pandas as pd\n",
    "import numpy as np\n",
    "import matplotlib.pyplot as plt\n",
    "import cv2\n",
    "import os\n",
    "\n",
    "plt.rcParams[\"axes.grid\"] = False\n",
    "plt.style.use('dark_background')"
   ]
  },
  {
   "cell_type": "code",
   "execution_count": 16,
   "id": "46acc58a",
   "metadata": {},
   "outputs": [
    {
     "data": {
      "text/html": [
       "<div>\n",
       "<style scoped>\n",
       "    .dataframe tbody tr th:only-of-type {\n",
       "        vertical-align: middle;\n",
       "    }\n",
       "\n",
       "    .dataframe tbody tr th {\n",
       "        vertical-align: top;\n",
       "    }\n",
       "\n",
       "    .dataframe thead th {\n",
       "        text-align: right;\n",
       "    }\n",
       "</style>\n",
       "<table border=\"1\" class=\"dataframe\">\n",
       "  <thead>\n",
       "    <tr style=\"text-align: right;\">\n",
       "      <th></th>\n",
       "      <th>filename</th>\n",
       "      <th>opacity</th>\n",
       "      <th>diabetic retinopathy</th>\n",
       "      <th>glaucoma</th>\n",
       "      <th>macular edema</th>\n",
       "      <th>macular degeneration</th>\n",
       "      <th>retinal vascular occlusion</th>\n",
       "      <th>normal</th>\n",
       "      <th>labels</th>\n",
       "    </tr>\n",
       "  </thead>\n",
       "  <tbody>\n",
       "    <tr>\n",
       "      <th>0</th>\n",
       "      <td>c24a1b14d253.jpg</td>\n",
       "      <td>0</td>\n",
       "      <td>0</td>\n",
       "      <td>0</td>\n",
       "      <td>0</td>\n",
       "      <td>0</td>\n",
       "      <td>1</td>\n",
       "      <td>0</td>\n",
       "      <td>retinal vascular occlusion</td>\n",
       "    </tr>\n",
       "    <tr>\n",
       "      <th>1</th>\n",
       "      <td>9ee905a41651.jpg</td>\n",
       "      <td>0</td>\n",
       "      <td>0</td>\n",
       "      <td>0</td>\n",
       "      <td>0</td>\n",
       "      <td>0</td>\n",
       "      <td>1</td>\n",
       "      <td>0</td>\n",
       "      <td>retinal vascular occlusion</td>\n",
       "    </tr>\n",
       "    <tr>\n",
       "      <th>2</th>\n",
       "      <td>3f58d128caf6.jpg</td>\n",
       "      <td>0</td>\n",
       "      <td>0</td>\n",
       "      <td>1</td>\n",
       "      <td>0</td>\n",
       "      <td>0</td>\n",
       "      <td>0</td>\n",
       "      <td>0</td>\n",
       "      <td>glaucoma</td>\n",
       "    </tr>\n",
       "    <tr>\n",
       "      <th>3</th>\n",
       "      <td>4ce6599e7b20.jpg</td>\n",
       "      <td>1</td>\n",
       "      <td>0</td>\n",
       "      <td>0</td>\n",
       "      <td>0</td>\n",
       "      <td>1</td>\n",
       "      <td>0</td>\n",
       "      <td>0</td>\n",
       "      <td>opacity, macular degeneration</td>\n",
       "    </tr>\n",
       "    <tr>\n",
       "      <th>4</th>\n",
       "      <td>0def470360e4.jpg</td>\n",
       "      <td>1</td>\n",
       "      <td>0</td>\n",
       "      <td>0</td>\n",
       "      <td>0</td>\n",
       "      <td>1</td>\n",
       "      <td>0</td>\n",
       "      <td>0</td>\n",
       "      <td>opacity, macular degeneration</td>\n",
       "    </tr>\n",
       "  </tbody>\n",
       "</table>\n",
       "</div>"
      ],
      "text/plain": [
       "           filename  opacity  diabetic retinopathy  glaucoma  macular edema  \\\n",
       "0  c24a1b14d253.jpg        0                     0         0              0   \n",
       "1  9ee905a41651.jpg        0                     0         0              0   \n",
       "2  3f58d128caf6.jpg        0                     0         1              0   \n",
       "3  4ce6599e7b20.jpg        1                     0         0              0   \n",
       "4  0def470360e4.jpg        1                     0         0              0   \n",
       "\n",
       "   macular degeneration  retinal vascular occlusion  normal  \\\n",
       "0                     0                           1       0   \n",
       "1                     0                           1       0   \n",
       "2                     0                           0       0   \n",
       "3                     1                           0       0   \n",
       "4                     1                           0       0   \n",
       "\n",
       "                          labels  \n",
       "0     retinal vascular occlusion  \n",
       "1     retinal vascular occlusion  \n",
       "2                       glaucoma  \n",
       "3  opacity, macular degeneration  \n",
       "4  opacity, macular degeneration  "
      ]
     },
     "execution_count": 16,
     "metadata": {},
     "output_type": "execute_result"
    }
   ],
   "source": [
    "# Read in the csv file of the images\n",
    "df = pd.read_csv('train_new.csv')\n",
    "df.head()"
   ]
  },
  {
   "cell_type": "code",
   "execution_count": 17,
   "id": "5dd5df91",
   "metadata": {},
   "outputs": [
    {
     "data": {
      "text/plain": [
       "3435"
      ]
     },
     "execution_count": 17,
     "metadata": {},
     "output_type": "execute_result"
    }
   ],
   "source": [
    "# make a list of all the filenames\n",
    "allimages = list(df.filename)\n",
    "\n",
    "# sanity check\n",
    "len(allimages)"
   ]
  },
  {
   "cell_type": "code",
   "execution_count": 33,
   "id": "9aedf750",
   "metadata": {},
   "outputs": [],
   "source": [
    "# Function for cropping of images\n",
    "def crop(image_list, indir, outdir):\n",
    "    for j in image_list:\n",
    "        img = cv2.imread(indir + '\\\\'+ j)\n",
    "        gray = cv2.cvtColor(img,cv2.COLOR_BGR2GRAY)\n",
    "        gray = np.asarray(gray)\n",
    "        r, c  = gray.shape\n",
    "        thresh = 5\n",
    "        r1 = 0; c1 = 0; r2 = r; c2 = c\n",
    "\n",
    "        for i in range(int(r/2), 0, -1):\n",
    "            if np.mean(gray[i,:]) <= thresh:\n",
    "                r1 = i\n",
    "                break\n",
    "\n",
    "        for i in range(int(c/2), 0, -1):\n",
    "            if np.mean(gray[:,i]) <= thresh:\n",
    "                c1 = i\n",
    "                break\n",
    "\n",
    "        for i in range(int(r/2), r, 1):\n",
    "            if np.mean(gray[i,:]) <= thresh:\n",
    "                r2 = i\n",
    "                break\n",
    "\n",
    "        for i in range(int(c/2), c, 1):\n",
    "            if np.mean(gray[:,i]) <= thresh:\n",
    "                c2 = i\n",
    "                break\n",
    "\n",
    "        crop = img[r1:r2,c1:c2]\n",
    "        cv2.imwrite(os.path.join(outdir , j), crop)"
   ]
  },
  {
   "cell_type": "code",
   "execution_count": 34,
   "id": "738d98c2",
   "metadata": {},
   "outputs": [
    {
     "ename": "error",
     "evalue": "OpenCV(4.5.5) D:\\a\\opencv-python\\opencv-python\\opencv\\modules\\imgproc\\src\\color.cpp:182: error: (-215:Assertion failed) !_src.empty() in function 'cv::cvtColor'\n",
     "output_type": "error",
     "traceback": [
      "\u001b[1;31m---------------------------------------------------------------------------\u001b[0m",
      "\u001b[1;31merror\u001b[0m                                     Traceback (most recent call last)",
      "\u001b[1;32m<ipython-input-34-2958cda75e00>\u001b[0m in \u001b[0;36m<module>\u001b[1;34m\u001b[0m\n\u001b[1;32m----> 1\u001b[1;33m \u001b[0mcrop\u001b[0m\u001b[1;33m(\u001b[0m\u001b[0mallimages\u001b[0m\u001b[1;33m,\u001b[0m \u001b[1;34mr'D:\\Thesis\\Dataset\\B. RFMiD_Challenge_Dataset\\RFMiD_Challenge_Dataset\\Original Images\\Training Set'\u001b[0m\u001b[1;33m,\u001b[0m \u001b[1;34mr'D:\\Thesis\\Dataset\\B. RFMiD_Challenge_Dataset\\RFMiD_Challenge_Dataset\\Original Images\\Train_Crop'\u001b[0m\u001b[1;33m)\u001b[0m\u001b[1;33m\u001b[0m\u001b[1;33m\u001b[0m\u001b[0m\n\u001b[0m",
      "\u001b[1;32m<ipython-input-33-5df832828338>\u001b[0m in \u001b[0;36mcrop\u001b[1;34m(image_list, indir, outdir)\u001b[0m\n\u001b[0;32m      3\u001b[0m     \u001b[1;32mfor\u001b[0m \u001b[0mj\u001b[0m \u001b[1;32min\u001b[0m \u001b[0mimage_list\u001b[0m\u001b[1;33m:\u001b[0m\u001b[1;33m\u001b[0m\u001b[1;33m\u001b[0m\u001b[0m\n\u001b[0;32m      4\u001b[0m         \u001b[0mimg\u001b[0m \u001b[1;33m=\u001b[0m \u001b[0mcv2\u001b[0m\u001b[1;33m.\u001b[0m\u001b[0mimread\u001b[0m\u001b[1;33m(\u001b[0m\u001b[0mindir\u001b[0m \u001b[1;33m+\u001b[0m \u001b[1;34m'\\\\'\u001b[0m\u001b[1;33m+\u001b[0m \u001b[0mj\u001b[0m\u001b[1;33m)\u001b[0m\u001b[1;33m\u001b[0m\u001b[1;33m\u001b[0m\u001b[0m\n\u001b[1;32m----> 5\u001b[1;33m         \u001b[0mgray\u001b[0m \u001b[1;33m=\u001b[0m \u001b[0mcv2\u001b[0m\u001b[1;33m.\u001b[0m\u001b[0mcvtColor\u001b[0m\u001b[1;33m(\u001b[0m\u001b[0mimg\u001b[0m\u001b[1;33m,\u001b[0m\u001b[0mcv2\u001b[0m\u001b[1;33m.\u001b[0m\u001b[0mCOLOR_BGR2GRAY\u001b[0m\u001b[1;33m)\u001b[0m\u001b[1;33m\u001b[0m\u001b[1;33m\u001b[0m\u001b[0m\n\u001b[0m\u001b[0;32m      6\u001b[0m         \u001b[0mgray\u001b[0m \u001b[1;33m=\u001b[0m \u001b[0mnp\u001b[0m\u001b[1;33m.\u001b[0m\u001b[0masarray\u001b[0m\u001b[1;33m(\u001b[0m\u001b[0mgray\u001b[0m\u001b[1;33m)\u001b[0m\u001b[1;33m\u001b[0m\u001b[1;33m\u001b[0m\u001b[0m\n\u001b[0;32m      7\u001b[0m         \u001b[0mr\u001b[0m\u001b[1;33m,\u001b[0m \u001b[0mc\u001b[0m  \u001b[1;33m=\u001b[0m \u001b[0mgray\u001b[0m\u001b[1;33m.\u001b[0m\u001b[0mshape\u001b[0m\u001b[1;33m\u001b[0m\u001b[1;33m\u001b[0m\u001b[0m\n",
      "\u001b[1;31merror\u001b[0m: OpenCV(4.5.5) D:\\a\\opencv-python\\opencv-python\\opencv\\modules\\imgproc\\src\\color.cpp:182: error: (-215:Assertion failed) !_src.empty() in function 'cv::cvtColor'\n"
     ]
    }
   ],
   "source": [
    "crop(allimages, r'D:\\data\\Projects\\notebooks\\RetinaAI\\train', r'D:\\data\\Projects\\notebooks\\RetinaAI\\train_cropped')"
   ]
  },
  {
   "cell_type": "code",
   "execution_count": 10,
   "id": "f93e1355",
   "metadata": {},
   "outputs": [],
   "source": [
    "# Resizing of images\n",
    "def resize(piclist, indir, outdir):\n",
    "    for i in piclist:\n",
    "        image = cv2.imread(indir + '\\\\'+ i)\n",
    "        image_res = cv2.resize(image, (512, 512), interpolation = cv2.INTER_NEAREST)\n",
    "        cv2.imwrite(os.path.join(outdir, i), image_res)"
   ]
  },
  {
   "cell_type": "code",
   "execution_count": 12,
   "id": "181b7789",
   "metadata": {},
   "outputs": [],
   "source": [
    "resize(allimages, r'D:\\Thesis\\Dataset\\varetinadisease\\train\\train_cropped', r'D:\\Thesis\\Dataset\\varetinadisease\\train\\train_resized')"
   ]
  }
 ],
 "metadata": {
  "kernelspec": {
   "display_name": "gputest",
   "language": "python",
   "name": "gputest"
  },
  "language_info": {
   "codemirror_mode": {
    "name": "ipython",
    "version": 3
   },
   "file_extension": ".py",
   "mimetype": "text/x-python",
   "name": "python",
   "nbconvert_exporter": "python",
   "pygments_lexer": "ipython3",
   "version": "3.8.10"
  }
 },
 "nbformat": 4,
 "nbformat_minor": 5
}
